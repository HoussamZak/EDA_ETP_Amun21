{
 "cells": [
  {
   "cell_type": "markdown",
   "metadata": {},
   "source": [
    "ETP, exchange traded products, track underlying securities, indexes, or other financial instruments, similarly to stock these are traded on exchanges which implies daily price fluctuations.Each ETP can be include as many underelying assets, digital ones also, as the creator decides, thus, gaining and losing in value in sync with the underlying assets, ETFs are the msot popular types of ETPs. These financial basket type of instruments are a great cost-effective way for institutions and individuals to gain exposure to a specific market, therefore crypto ETPs are great for investors willing to gain an exposure to crypto without the hassle of holding coins on spot or wallets.\n",
    "\n",
    "The following is an EDA, exploratory data analysis, aiming for insights about:\n",
    "\n",
    "Correlations between the various ETP, crypto and subgroups\n",
    "ETP's liquidity (bid/ask spreads & volume)\n",
    "Underlying assets' liquidity (bid/ask spreads & volume)\n",
    "Relevant correlations\n",
    "Funding rate correlations with the main groups we revealed exist"
   ]
  },
  {
   "cell_type": "code",
   "execution_count": null,
   "metadata": {},
   "outputs": [],
   "source": []
  }
 ],
 "metadata": {
  "interpreter": {
   "hash": "3bff544f8a8073c4167e9b2cc33d981654572eb557f5e5f174774942b3a02b19"
  },
  "kernelspec": {
   "display_name": "Python 3.8.5 64-bit",
   "language": "python",
   "name": "python3"
  },
  "language_info": {
   "name": "python",
   "version": "3.8.5"
  },
  "orig_nbformat": 4
 },
 "nbformat": 4,
 "nbformat_minor": 2
}
