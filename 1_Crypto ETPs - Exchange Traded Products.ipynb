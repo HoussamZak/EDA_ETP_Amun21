{
 "cells": [
  {
   "cell_type": "markdown",
   "metadata": {},
   "source": [
    "ETP, exchange traded products, track underlying securities, indexes, or other financial instruments, similarly to stock these are traded on exchanges which implies daily price fluctuations.Each ETP can be include as many underelying assets, digital ones also, as the creator decides, thus, gaining and losing in value in sync with the underlying assets, ETFs are the msot popular types of ETPs. These financial basket type of instruments are a great cost-effective way for institutions and individuals to gain exposure to a specific market, therefore crypto ETPs are great for investors willing to gain an exposure to crypto without the hassle of holding coins on spot or wallets.\n",
    "\n",
    "The following is an EDA, exploratory data analysis, aiming at the follwing type of insights:\n",
    "\n",
    "_ Correlations between the various ETP, crypto and subgroups, other metrics and some stocks\n",
    "_ ETP's liquidity (bid/ask spreads & volume)\n",
    "_ Underlying assets' liquidity (bid/ask spreads & volume)\n",
    "_ Funding rate correlations with the main groups we revealed exist"
   ]
  },
  {
   "cell_type": "markdown",
   "metadata": {},
   "source": [
    "ETPs are also called structered products, this category of financial products are pre-packaged investments that normally include assets linked to interest plus one or more derivatives. Some are directly correlated to the performance of the underlying assets while others are actively managed, selecting/eliminating elements of the basket, rebalancing, etc...\n",
    "\n",
    "Structured products can be principal-guaranteed that issue returns on the maturity date.\n",
    "The risks associated with structured products can be fairly complex—they may not be insured by the FDIC and they tend to lack liquidity."
   ]
  },
  {
   "cell_type": "code",
   "execution_count": null,
   "metadata": {},
   "outputs": [],
   "source": [
    "HOW I CHOSE RELEVANT TARGETS FOR THIS EDA?\n",
    "\n",
    "1/ Downloaded a sample csv from SIX-GROUP.com made of all ETP traded on the swiss exchange\n",
    "2/ Removed all non crypto ETPs\n",
    "3/ Checked which ticker were faulty with YahooFinance, giving no data and removed each ETP whose ticker brought no data\n",
    "4/ Went through the official documentation for each ETP to understand its management, collaterlization and overall structure.\n",
    "        You can check the file here: https://docs.google.com/spreadsheets/d/1ora88Kh1GjfPjd3lK96VjUR8WbNDvdXVkw1KFDcRrlY/edit?usp=sharing\n",
    "5/ With this spreadsheet, one can easily see how each ETP is structured and which correlation may arise, which parameters matter."
   ]
  },
  {
   "cell_type": "markdown",
   "metadata": {},
   "source": [
    "According to our reserch sheet, each line presents what which each ETP tracks, hence possible correlation group to explore.\n",
    "BTC vs USD CHF EUR\n",
    "ETH vs USD CHF EUR\n",
    "BTC ETH MATIC AVAX SOL DOT NEO TRX XLM XTZ ADA EOS BNB LTC XRP\n",
    "BNB\n",
    "BCH\n",
    "BTC\n",
    "BTC vs ETH mc\n",
    "BTC ETH ADA SOL AVAX DOT MATIC LTC ATOM BCH\n",
    "ADA\n",
    "BTC ETH ADA SOL AVAX DOT MATIC LTC ATOM BCH\n",
    "BTC ETH BNB ADA SOL\n",
    "BTC ETH BNB ADA SOL\n",
    "ETH\n",
    "XRP\n",
    "BTC short\n",
    "SOL\n",
    "XLM\n",
    "XTZ\n",
    "BTC\n",
    "ETH\n",
    "XRP\n",
    "BTC \n",
    "BTC\n",
    "Whole Crypto Market Performance \n",
    "ETH\n",
    "DOT\n",
    "BTC ETH ADA DOT SOL BNB AVAX TERRA EOS XTZ\n",
    "MATIC\n",
    "BTC CF BTC DOLLAR\n",
    "ETH CF ETHER DOLLAR"
   ]
  },
  {
   "cell_type": "markdown",
   "metadata": {},
   "source": [
    "Volume, Spread data found here: https://data.bitcoinity.org/markets/spread/5y/USD\n",
    "Futures Data: https://coinglass.github.io/API-Reference/#exchange-open-interest"
   ]
  }
 ],
 "metadata": {
  "interpreter": {
   "hash": "3bff544f8a8073c4167e9b2cc33d981654572eb557f5e5f174774942b3a02b19"
  },
  "kernelspec": {
   "display_name": "Python 3.8.5 64-bit",
   "language": "python",
   "name": "python3"
  },
  "language_info": {
   "name": "python",
   "version": "3.8.5"
  },
  "orig_nbformat": 4
 },
 "nbformat": 4,
 "nbformat_minor": 2
}
