{
 "cells": [
  {
   "cell_type": "markdown",
   "metadata": {},
   "source": [
    "After running the data query through yahooFinance, it became obvious that some tickers had issues so the goal here is to spot the faulty tickers."
   ]
  },
  {
   "cell_type": "code",
   "execution_count": 1,
   "metadata": {},
   "outputs": [
    {
     "ename": "NameError",
     "evalue": "name 'df' is not defined",
     "output_type": "error",
     "traceback": [
      "\u001b[1;31m---------------------------------------------------------------------------\u001b[0m",
      "\u001b[1;31mNameError\u001b[0m                                 Traceback (most recent call last)",
      "\u001b[1;32m~\\AppData\\Local\\Temp/ipykernel_5768/2575814374.py\u001b[0m in \u001b[0;36m<module>\u001b[1;34m\u001b[0m\n\u001b[0;32m      1\u001b[0m \u001b[1;32mimport\u001b[0m \u001b[0myfinance\u001b[0m \u001b[1;32mas\u001b[0m \u001b[0myf\u001b[0m\u001b[1;33m\u001b[0m\u001b[1;33m\u001b[0m\u001b[0m\n\u001b[0;32m      2\u001b[0m \u001b[1;33m\u001b[0m\u001b[0m\n\u001b[1;32m----> 3\u001b[1;33m \u001b[0mYahooTicker_list\u001b[0m \u001b[1;33m=\u001b[0m \u001b[0mdf\u001b[0m\u001b[1;33m[\u001b[0m\u001b[1;34m'YahooTicker'\u001b[0m\u001b[1;33m]\u001b[0m\u001b[1;33m.\u001b[0m\u001b[0mlist\u001b[0m\u001b[1;33m(\u001b[0m\u001b[1;33m)\u001b[0m\u001b[1;33m\u001b[0m\u001b[1;33m\u001b[0m\u001b[0m\n\u001b[0m\u001b[0;32m      4\u001b[0m \u001b[1;33m\u001b[0m\u001b[0m\n\u001b[0;32m      5\u001b[0m \u001b[0mdata\u001b[0m \u001b[1;33m=\u001b[0m \u001b[0myf\u001b[0m\u001b[1;33m.\u001b[0m\u001b[0mdownload\u001b[0m\u001b[1;33m(\u001b[0m\u001b[0mYahooTicker_list\u001b[0m\u001b[1;33m,\u001b[0m \u001b[0mstart\u001b[0m \u001b[1;33m=\u001b[0m \u001b[1;34m\"2020-01-01\"\u001b[0m\u001b[1;33m,\u001b[0m \u001b[0mend\u001b[0m \u001b[1;33m=\u001b[0m \u001b[1;34m\"2022-02-02\"\u001b[0m\u001b[1;33m)\u001b[0m\u001b[1;33m\u001b[0m\u001b[1;33m\u001b[0m\u001b[0m\n",
      "\u001b[1;31mNameError\u001b[0m: name 'df' is not defined"
     ]
    }
   ],
   "source": [
    "import yfinance as yf \n",
    "\n",
    "YahooTicker_list = df['YahooTicker'].list()\n",
    "\n",
    "data = yf.download(YahooTicker_list, start = \"2020-01-01\", end = \"2022-02-02\")\n",
    "print(data.head())\n",
    "\n",
    "\"\"\"\n",
    "Getting info of each ticker in YahooTicker_list to check if there are exceptions.\n",
    "Exception means faulty tickers we can not do much with, no data no info.\n",
    "\"\"\""
   ]
  },
  {
   "cell_type": "markdown",
   "metadata": {},
   "source": [
    "After many unsuccessful attempts at fetching ETP data from yahoo Finance, I chose to set a list of ETP tickers that are problematic and remove the tickers with issues from our initial dataframe !"
   ]
  },
  {
   "cell_type": "code",
   "execution_count": null,
   "metadata": {},
   "outputs": [
    {
     "name": "stdout",
     "output_type": "stream",
     "text": [
      "['TPLT', 'WALT', 'TNIK', 'AVAX', 'TSLV', 'PLKA', 'BTIC', 'VAVA', 'LUNA', 'LITE', 'VBTC', 'RDAN', 'ALTS', 'TCOP', 'VETH', 'ADOT', 'ESOL', 'BTCE', 'VTOP', 'POLY', 'VDOT', 'SGLE', 'ELTC', 'VSOL', 'BLOC', 'TPAL', 'ATOM', 'TGLD', 'XBTI', 'ZETH', 'MEGA', 'ALGO']\n"
     ]
    }
   ],
   "source": [
    "import pandas as pd\n",
    "errors = pd.read_csv(r'C:\\Users\\Fluffy\\Desktop\\Projects Coding\\EDA_ETP_Amun21\\Failed_Download .csv')\n",
    "errors_tickers_list = errors['error_tickers'].tolist()\n",
    "\n",
    "errors_list = pd.DataFrame(errors_tickers_list)\n",
    "errors_list.to_csv('errors_list.csv')\n",
    "print(errors_tickers_list)"
   ]
  }
 ],
 "metadata": {
  "interpreter": {
   "hash": "3bff544f8a8073c4167e9b2cc33d981654572eb557f5e5f174774942b3a02b19"
  },
  "kernelspec": {
   "display_name": "Python 3.8.5 64-bit",
   "language": "python",
   "name": "python3"
  },
  "language_info": {
   "codemirror_mode": {
    "name": "ipython",
    "version": 3
   },
   "file_extension": ".py",
   "mimetype": "text/x-python",
   "name": "python",
   "nbconvert_exporter": "python",
   "pygments_lexer": "ipython3",
   "version": "3.8.5"
  },
  "orig_nbformat": 4
 },
 "nbformat": 4,
 "nbformat_minor": 2
}
