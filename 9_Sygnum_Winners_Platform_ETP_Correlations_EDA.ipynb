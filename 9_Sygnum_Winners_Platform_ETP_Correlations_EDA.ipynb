{
 "cells": [
  {
   "cell_type": "markdown",
   "metadata": {},
   "source": [
    "Sygnum Winner Platform Index ETP (Index tracking BTC ETH ADA DOT SOL BNB AVAX TERRA EOS XTZ / Regularly adjusting selection, weighting and rebalancing)"
   ]
  },
  {
   "cell_type": "code",
   "execution_count": 2,
   "metadata": {},
   "outputs": [],
   "source": [
    "import pandas as pd\n",
    "import numpy as np\n",
    "from matplotlib import pyplot as plt\n",
    "import seaborn as sns\n",
    "import yfinance as yf"
   ]
  },
  {
   "cell_type": "code",
   "execution_count": 1,
   "metadata": {},
   "outputs": [
    {
     "ename": "NameError",
     "evalue": "name 'yf' is not defined",
     "output_type": "error",
     "traceback": [
      "\u001b[1;31m---------------------------------------------------------------------------\u001b[0m",
      "\u001b[1;31mNameError\u001b[0m                                 Traceback (most recent call last)",
      "\u001b[1;32m~\\AppData\\Local\\Temp/ipykernel_29340/1033869269.py\u001b[0m in \u001b[0;36m<module>\u001b[1;34m\u001b[0m\n\u001b[0;32m      2\u001b[0m \u001b[1;31m#For Polkadot, I wrote DOT-CAD because the USD pair gives no data.\u001b[0m\u001b[1;33m\u001b[0m\u001b[1;33m\u001b[0m\u001b[1;33m\u001b[0m\u001b[0m\n\u001b[0;32m      3\u001b[0m \u001b[0mbitwise_select_top10\u001b[0m \u001b[1;33m=\u001b[0m \u001b[1;33m[\u001b[0m\u001b[1;34m'BTC-USD'\u001b[0m\u001b[1;33m,\u001b[0m \u001b[1;34m'ETH-USD'\u001b[0m\u001b[1;33m,\u001b[0m\u001b[1;34m'AVAX-USD'\u001b[0m\u001b[1;33m,\u001b[0m \u001b[1;34m'SOL-USD'\u001b[0m\u001b[1;33m,\u001b[0m \u001b[1;34m'ADA-USD'\u001b[0m\u001b[1;33m,\u001b[0m \u001b[1;34m'DOT-CAD'\u001b[0m\u001b[1;33m,\u001b[0m \u001b[1;34m'BNB-USD'\u001b[0m\u001b[1;33m,\u001b[0m \u001b[1;34m'TERRA-USD'\u001b[0m\u001b[1;33m,\u001b[0m\u001b[1;34m'EOS-USD'\u001b[0m\u001b[1;33m,\u001b[0m \u001b[1;34m'XTZ-CAD'\u001b[0m\u001b[1;33m]\u001b[0m\u001b[1;33m\u001b[0m\u001b[1;33m\u001b[0m\u001b[0m\n\u001b[1;32m----> 4\u001b[1;33m \u001b[0mbitwise_select_top10_temp\u001b[0m \u001b[1;33m=\u001b[0m \u001b[0myf\u001b[0m\u001b[1;33m.\u001b[0m\u001b[0mdownload\u001b[0m\u001b[1;33m(\u001b[0m\u001b[0mbitwise_select_top10\u001b[0m\u001b[1;33m,\u001b[0m \u001b[0mstart\u001b[0m \u001b[1;33m=\u001b[0m \u001b[1;34m\"2017-02-21\"\u001b[0m\u001b[1;33m,\u001b[0m \u001b[0mend\u001b[0m \u001b[1;33m=\u001b[0m \u001b[1;34m\"2022-02-20\"\u001b[0m\u001b[1;33m,\u001b[0m \u001b[0mdata_source\u001b[0m \u001b[1;33m=\u001b[0m \u001b[1;34m\"yahoo\"\u001b[0m\u001b[1;33m)\u001b[0m\u001b[1;33m\u001b[0m\u001b[1;33m\u001b[0m\u001b[0m\n\u001b[0m\u001b[0;32m      5\u001b[0m \u001b[0mbitwise_select_top10_temp\u001b[0m\u001b[1;33m.\u001b[0m\u001b[0mdrop\u001b[0m\u001b[1;33m(\u001b[0m\u001b[0mcolumns\u001b[0m \u001b[1;33m=\u001b[0m \u001b[1;33m[\u001b[0m\u001b[1;34m'Volume'\u001b[0m\u001b[1;33m,\u001b[0m \u001b[1;34m'Open'\u001b[0m\u001b[1;33m,\u001b[0m \u001b[1;34m'Close'\u001b[0m\u001b[1;33m,\u001b[0m\u001b[1;34m'Low'\u001b[0m\u001b[1;33m,\u001b[0m \u001b[1;34m'High'\u001b[0m\u001b[1;33m]\u001b[0m\u001b[1;33m,\u001b[0m \u001b[0minplace\u001b[0m\u001b[1;33m=\u001b[0m \u001b[1;32mTrue\u001b[0m\u001b[1;33m)\u001b[0m\u001b[1;33m\u001b[0m\u001b[1;33m\u001b[0m\u001b[0m\n\u001b[0;32m      6\u001b[0m \u001b[1;33m\u001b[0m\u001b[0m\n",
      "\u001b[1;31mNameError\u001b[0m: name 'yf' is not defined"
     ]
    }
   ],
   "source": [
    "#List of altcoin pairs in the ETP\n",
    "#For Polkadot, I wrote DOT-CAD because the USD pair gives no data.\n",
    "bitwise_select_top10 = ['BTC-USD', 'ETH-USD','AVAX-USD', 'SOL-USD', 'ADA-USD', 'DOT-CAD', 'BNB-USD', 'TERRA-USD','EOS-USD', 'XTZ-CAD']\n",
    "bitwise_select_top10_temp = yf.download(bitwise_select_top10, start = \"2017-02-21\", end = \"2022-02-20\", data_source = \"yahoo\")\n",
    "bitwise_select_top10_temp.drop(columns = ['Volume', 'Open', 'Close','Low', 'High'], inplace= True)\n",
    "\n",
    "#Merging with btc_data\n",
    "# btc_metrics_and_15 = pd.merge(btc_metrics, fifteen_ficas_active_crypto_temp, how = 'right', on =['Date', 'Date'])\n",
    "\n",
    "bitwise_select_top10_temp"
   ]
  }
 ],
 "metadata": {
  "interpreter": {
   "hash": "3bff544f8a8073c4167e9b2cc33d981654572eb557f5e5f174774942b3a02b19"
  },
  "kernelspec": {
   "display_name": "Python 3.8.5 64-bit",
   "language": "python",
   "name": "python3"
  },
  "language_info": {
   "codemirror_mode": {
    "name": "ipython",
    "version": 3
   },
   "file_extension": ".py",
   "mimetype": "text/x-python",
   "name": "python",
   "nbconvert_exporter": "python",
   "pygments_lexer": "ipython3",
   "version": "3.8.5"
  },
  "orig_nbformat": 4
 },
 "nbformat": 4,
 "nbformat_minor": 2
}
